{
 "cells": [
  {
   "cell_type": "markdown",
   "metadata": {},
   "source": [
    "# Fantasy Football Project\n",
    "\n",
    "## Team Colours"
   ]
  },
  {
   "cell_type": "markdown",
   "metadata": {},
   "source": [
    "In this notebook, as a less intense aside from the main problems we'll set up some team colours that will help to style our final deployed product. "
   ]
  },
  {
   "cell_type": "code",
   "execution_count": 1,
   "metadata": {},
   "outputs": [],
   "source": [
    "import pandas as pd\n",
    "import matplotlib.pyplot as plt"
   ]
  },
  {
   "cell_type": "code",
   "execution_count": 2,
   "metadata": {},
   "outputs": [
    {
     "name": "stdout",
     "output_type": "stream",
     "text": [
      "FFP_initial_investigation.ipynb season_funcs2.ipynb\r\n",
      "README.md                       season_squads.csv\r\n",
      "Team_Colours.ipynb              \u001b[34mshirts\u001b[m\u001b[m\r\n",
      "basic_player_info.csv           team_colors.csv\r\n",
      "basic_prepared_players.csv      team_season_functions.ipynb\r\n",
      "cumulative_points.csv           team_selections_gw1.ipynb\r\n",
      "gw1_functions.ipynb             team_selections_season.ipynb\r\n",
      "players.csv                     weekly_calls.ipynb\r\n"
     ]
    }
   ],
   "source": [
    "!ls"
   ]
  },
  {
   "cell_type": "code",
   "execution_count": 3,
   "metadata": {},
   "outputs": [],
   "source": [
    "df = pd.read_csv(\"basic_prepared_players.csv\")"
   ]
  },
  {
   "cell_type": "code",
   "execution_count": 13,
   "metadata": {
    "collapsed": true
   },
   "outputs": [
    {
     "data": {
      "text/plain": [
       "['ARS',\n",
       " 'AVL',\n",
       " 'WBA',\n",
       " 'NEW',\n",
       " 'BHA',\n",
       " 'BUR',\n",
       " 'CHE',\n",
       " 'CRY',\n",
       " 'FUL',\n",
       " 'SOU',\n",
       " 'EVE',\n",
       " 'LEE',\n",
       " 'LEI',\n",
       " 'LIV',\n",
       " 'SHU',\n",
       " 'MCI',\n",
       " 'MUN',\n",
       " 'WHU',\n",
       " 'TOT',\n",
       " 'WOL']"
      ]
     },
     "execution_count": 13,
     "metadata": {},
     "output_type": "execute_result"
    }
   ],
   "source": [
    "# Create a list of the abbreviated team names\n",
    "teams = df.short_name.unique().tolist()\n",
    "teams\n"
   ]
  },
  {
   "cell_type": "code",
   "execution_count": 14,
   "metadata": {},
   "outputs": [],
   "source": [
    "# Create a dictionary and frame of the colour scheme\n",
    "colors = {'ARS' : {\"top\": \"#fc0303\", \"shorts\": \"#ffffff\"}, # red and white\n",
    "          'AVL' : {\"top\": \"#9c286a\", \"shorts\": \"#ffffff\"}, # maroon and white\n",
    "          'WBA' : {\"top\": \"#ffffff\", \"shorts\": \"#000000\"}, # white and black\n",
    "          'NEW' : {\"top\": \"#000000\", \"shorts\": \"#ffffff\"}, # black and white\n",
    "          'BHA' : {\"top\": \"#0022ff\", \"shorts\": \"#ffffff\"}, # blue and white\n",
    "          'BUR' : {\"top\": \"#9c286a\", \"shorts\": \"#7083ff\"}, # maroon and light-blue\n",
    "          'CHE' : {\"top\": \"#001bc9\", \"shorts\": \"#001bc9\"}, # dark-blue and dark-blue\n",
    "          'CRY' : {\"top\": \"#fc0303\", \"shorts\": \"#0022ff\"}, # red and blue\n",
    "          'FUL' : {\"top\": \"#d2d2d6\", \"shorts\": \"#000000\"}, # silver and black\n",
    "          'SOU' : {\"top\": \"#ffffff\", \"shorts\": \"#fc0303\"}, # white and red\n",
    "          'EVE' : {\"top\": \"#ffffff\", \"shorts\": \"#0022ff\"}, # white and blue\n",
    "          'LEE' : {\"top\": \"#fff200\", \"shorts\": \"#ffffff\"}, # white and white\n",
    "          'LEI' : {\"top\": \"#001bc9\", \"shorts\": \"#ffffff\"}, # dark-blue and white\n",
    "          'LIV' : {\"top\": \"#fc0303\", \"shorts\": \"#d2d2d6\"}, # red and silver\n",
    "          'SHU' : {\"top\": \"#ff6369\", \"shorts\": \"#000000\"}, # light-red and black\n",
    "          'MCI' : {\"top\": \"#7083ff\", \"shorts\": \"#ffffff\"}, # light-blue and white\n",
    "          'MUN' : {\"top\": \"#ba0006\", \"shorts\": \"#8f8f8f\"}, # dark-red and grey\n",
    "          'WHU' : {\"top\": \"#7083ff\", \"shorts\": \"#9c286a\"}, # light-blue and maroon\n",
    "          'TOT' : {\"top\": \"#d2d2d6\", \"shorts\": \"#001bc9\"}, # silver and dark-blue\n",
    "          'WOL' : {\"top\": \"#ffae00\", \"shorts\": \"#000000\"}  # tangerine and black\n",
    "         }\n",
    "\n",
    "          \n",
    "team_colors = pd.DataFrame(colors).T"
   ]
  },
  {
   "cell_type": "code",
   "execution_count": 15,
   "metadata": {},
   "outputs": [],
   "source": [
    "team_colors.reset_index(inplace=True)\n",
    "team_colors.rename(columns={\"index\": \"team\"}, inplace=True)"
   ]
  },
  {
   "cell_type": "code",
   "execution_count": 30,
   "metadata": {},
   "outputs": [
    {
     "data": {
      "text/html": [
       "<div>\n",
       "<style scoped>\n",
       "    .dataframe tbody tr th:only-of-type {\n",
       "        vertical-align: middle;\n",
       "    }\n",
       "\n",
       "    .dataframe tbody tr th {\n",
       "        vertical-align: top;\n",
       "    }\n",
       "\n",
       "    .dataframe thead th {\n",
       "        text-align: right;\n",
       "    }\n",
       "</style>\n",
       "<table border=\"1\" class=\"dataframe\">\n",
       "  <thead>\n",
       "    <tr style=\"text-align: right;\">\n",
       "      <th></th>\n",
       "      <th>team</th>\n",
       "      <th>top</th>\n",
       "      <th>shorts</th>\n",
       "    </tr>\n",
       "  </thead>\n",
       "  <tbody>\n",
       "    <tr>\n",
       "      <th>0</th>\n",
       "      <td>ARS</td>\n",
       "      <td>#fc0303</td>\n",
       "      <td>#ffffff</td>\n",
       "    </tr>\n",
       "    <tr>\n",
       "      <th>1</th>\n",
       "      <td>AVL</td>\n",
       "      <td>#9c286a</td>\n",
       "      <td>#ffffff</td>\n",
       "    </tr>\n",
       "    <tr>\n",
       "      <th>2</th>\n",
       "      <td>WBA</td>\n",
       "      <td>#ffffff</td>\n",
       "      <td>#000000</td>\n",
       "    </tr>\n",
       "    <tr>\n",
       "      <th>3</th>\n",
       "      <td>NEW</td>\n",
       "      <td>#000000</td>\n",
       "      <td>#ffffff</td>\n",
       "    </tr>\n",
       "    <tr>\n",
       "      <th>4</th>\n",
       "      <td>BHA</td>\n",
       "      <td>#0022ff</td>\n",
       "      <td>#ffffff</td>\n",
       "    </tr>\n",
       "    <tr>\n",
       "      <th>5</th>\n",
       "      <td>BUR</td>\n",
       "      <td>#9c286a</td>\n",
       "      <td>#7083ff</td>\n",
       "    </tr>\n",
       "    <tr>\n",
       "      <th>6</th>\n",
       "      <td>CHE</td>\n",
       "      <td>#001bc9</td>\n",
       "      <td>#001bc9</td>\n",
       "    </tr>\n",
       "    <tr>\n",
       "      <th>7</th>\n",
       "      <td>CRY</td>\n",
       "      <td>#fc0303</td>\n",
       "      <td>#0022ff</td>\n",
       "    </tr>\n",
       "    <tr>\n",
       "      <th>8</th>\n",
       "      <td>FUL</td>\n",
       "      <td>#d2d2d6</td>\n",
       "      <td>#000000</td>\n",
       "    </tr>\n",
       "    <tr>\n",
       "      <th>9</th>\n",
       "      <td>SOU</td>\n",
       "      <td>#ffffff</td>\n",
       "      <td>#fc0303</td>\n",
       "    </tr>\n",
       "    <tr>\n",
       "      <th>10</th>\n",
       "      <td>EVE</td>\n",
       "      <td>#ffffff</td>\n",
       "      <td>#0022ff</td>\n",
       "    </tr>\n",
       "    <tr>\n",
       "      <th>11</th>\n",
       "      <td>LEE</td>\n",
       "      <td>#fff200</td>\n",
       "      <td>#ffffff</td>\n",
       "    </tr>\n",
       "    <tr>\n",
       "      <th>12</th>\n",
       "      <td>LEI</td>\n",
       "      <td>#001bc9</td>\n",
       "      <td>#ffffff</td>\n",
       "    </tr>\n",
       "    <tr>\n",
       "      <th>13</th>\n",
       "      <td>LIV</td>\n",
       "      <td>#fc0303</td>\n",
       "      <td>#d2d2d6</td>\n",
       "    </tr>\n",
       "    <tr>\n",
       "      <th>14</th>\n",
       "      <td>SHU</td>\n",
       "      <td>#ff6369</td>\n",
       "      <td>#000000</td>\n",
       "    </tr>\n",
       "    <tr>\n",
       "      <th>15</th>\n",
       "      <td>MCI</td>\n",
       "      <td>#7083ff</td>\n",
       "      <td>#ffffff</td>\n",
       "    </tr>\n",
       "    <tr>\n",
       "      <th>16</th>\n",
       "      <td>MUN</td>\n",
       "      <td>#ba0006</td>\n",
       "      <td>#8f8f8f</td>\n",
       "    </tr>\n",
       "    <tr>\n",
       "      <th>17</th>\n",
       "      <td>WHU</td>\n",
       "      <td>#7083ff</td>\n",
       "      <td>#9c286a</td>\n",
       "    </tr>\n",
       "    <tr>\n",
       "      <th>18</th>\n",
       "      <td>TOT</td>\n",
       "      <td>#d2d2d6</td>\n",
       "      <td>#001bc9</td>\n",
       "    </tr>\n",
       "    <tr>\n",
       "      <th>19</th>\n",
       "      <td>WOL</td>\n",
       "      <td>#ffae00</td>\n",
       "      <td>#000000</td>\n",
       "    </tr>\n",
       "  </tbody>\n",
       "</table>\n",
       "</div>"
      ],
      "text/plain": [
       "   team      top   shorts\n",
       "0   ARS  #fc0303  #ffffff\n",
       "1   AVL  #9c286a  #ffffff\n",
       "2   WBA  #ffffff  #000000\n",
       "3   NEW  #000000  #ffffff\n",
       "4   BHA  #0022ff  #ffffff\n",
       "5   BUR  #9c286a  #7083ff\n",
       "6   CHE  #001bc9  #001bc9\n",
       "7   CRY  #fc0303  #0022ff\n",
       "8   FUL  #d2d2d6  #000000\n",
       "9   SOU  #ffffff  #fc0303\n",
       "10  EVE  #ffffff  #0022ff\n",
       "11  LEE  #fff200  #ffffff\n",
       "12  LEI  #001bc9  #ffffff\n",
       "13  LIV  #fc0303  #d2d2d6\n",
       "14  SHU  #ff6369  #000000\n",
       "15  MCI  #7083ff  #ffffff\n",
       "16  MUN  #ba0006  #8f8f8f\n",
       "17  WHU  #7083ff  #9c286a\n",
       "18  TOT  #d2d2d6  #001bc9\n",
       "19  WOL  #ffae00  #000000"
      ]
     },
     "execution_count": 30,
     "metadata": {},
     "output_type": "execute_result"
    }
   ],
   "source": [
    "# Review the data\n",
    "team_colors"
   ]
  },
  {
   "cell_type": "code",
   "execution_count": 31,
   "metadata": {},
   "outputs": [],
   "source": [
    "team_colors.to_csv(\"team_colors.csv\", index=False)"
   ]
  },
  {
   "cell_type": "code",
   "execution_count": 17,
   "metadata": {},
   "outputs": [],
   "source": [
    "# Import patches so we can draw some shapes to display our team colours\n",
    "import matplotlib.patches as patches"
   ]
  },
  {
   "cell_type": "code",
   "execution_count": 29,
   "metadata": {},
   "outputs": [
    {
     "data": {
      "image/png": "[encoded data removed]",
      "text/plain": [
       "<Figure size 864x864 with 1 Axes>"
      ]
     },
     "metadata": {
      "needs_background": "light"
     },
     "output_type": "display_data"
    }
   ],
   "source": [
    "# Build coordinates\n",
    "# Start with an empty coord list for the tops and shorts\n",
    "top_coords = []\n",
    "shorts_coords = []\n",
    "# Set all possible x and y starting coordinates\n",
    "\n",
    "x1 = [0, 10, 20 , 30, 40] # tops\n",
    "y1 = [0, 10, 20, 30, ] # tops and shorts\n",
    "x2 = [4, 14, 24, 34, 44] # shorts\n",
    "\n",
    "# populate the coords lists\n",
    "for i in y1:\n",
    "    for j, m in zip(x1, x2):\n",
    "        top_coords.append((j, i))\n",
    "        shorts_coords.append((m, i))\n",
    "\n",
    "# Plot the colour schemes\n",
    "fig, ax = plt.subplots(figsize=(12, 12))\n",
    "# set the background to green\n",
    "plt.rcParams['axes.facecolor'] = \"#72e800\"\n",
    "\n",
    "# iterate through the team_colors frame and plot the team colours using rectangles\n",
    "for i in range(team_colors.shape[0]):\n",
    "    ax.add_patch(patches.Rectangle(top_coords[i], 4, 4, fc=team_colors.top[i]))\n",
    "    ax.add_patch(patches.Rectangle(shorts_coords[i], 4, 4, fc=team_colors.shorts[i]))\n",
    "    ax.annotate(team_colors.team[i], (top_coords[i][0]+2.5, top_coords[i][1]+4.5 ), \n",
    "                fontsize=16, color=\"k\", fontweight=\"bold\")\n",
    "    \n",
    "    plt.axis('scaled')\n",
    "plt.title(\"Team Colour Schemes\", fontsize=24)\n",
    "\n",
    "plt.show()"
   ]
  },
  {
   "cell_type": "markdown",
   "metadata": {},
   "source": [
    "## Next Steps\n",
    "\n",
    "Screenshot the shirts from the website and plot those by the name of our squad members!!!"
   ]
  },
  {
   "cell_type": "code",
   "execution_count": 36,
   "metadata": {},
   "outputs": [],
   "source": [
    "from PIL import Image\n",
    "import os"
   ]
  },
  {
   "cell_type": "code",
   "execution_count": 37,
   "metadata": {},
   "outputs": [
    {
     "data": {
      "text/plain": [
       "['mancity.png']"
      ]
     },
     "execution_count": 37,
     "metadata": {},
     "output_type": "execute_result"
    }
   ],
   "source": [
    "os.listdir(\"shirts\")"
   ]
  },
  {
   "cell_type": "code",
   "execution_count": 47,
   "metadata": {},
   "outputs": [],
   "source": [
    "img = Image.open(\"shirts/mancity.png\")"
   ]
  },
  {
   "cell_type": "code",
   "execution_count": 33,
   "metadata": {},
   "outputs": [
    {
     "name": "stdout",
     "output_type": "stream",
     "text": [
      "FFP_initial_investigation.ipynb gw1_functions.ipynb\r\n",
      "README.md                       players.csv\r\n",
      "Team_Colours.ipynb              \u001b[34mshirts\u001b[m\u001b[m\r\n",
      "basic_player_info.csv           team_colors.csv\r\n",
      "basic_prepared_players.csv      team_selections_gw1.ipynb\r\n",
      "cumulative_points.csv           team_selections_season.ipynb\r\n"
     ]
    }
   ],
   "source": [
    "!ls"
   ]
  },
  {
   "cell_type": "code",
   "execution_count": 48,
   "metadata": {},
   "outputs": [],
   "source": [
    "img.thumbnail((60, 60))"
   ]
  },
  {
   "cell_type": "code",
   "execution_count": 49,
   "metadata": {},
   "outputs": [
    {
     "data": {
      "image/png": "[encoded data removed]",
      "text/plain": [
       "<PIL.PngImagePlugin.PngImageFile image mode=RGBA size=38x60 at 0x11B5B7C50>"
      ]
     },
     "execution_count": 49,
     "metadata": {},
     "output_type": "execute_result"
    }
   ],
   "source": [
    "img"
   ]
  },
  {
   "cell_type": "code",
   "execution_count": null,
   "metadata": {},
   "outputs": [],
   "source": []
  },
  {
   "cell_type": "markdown",
   "metadata": {},
   "source": [
    "## Display the squad in formation - select from all available gw"
   ]
  },
  {
   "cell_type": "code",
   "execution_count": 24,
   "metadata": {},
   "outputs": [],
   "source": [
    "# Create a final function that brings everything together, returns the squad data, details and a visualisation\n",
    "def selected_squad():\n",
    "    \"\"\"\n",
    "    In this function we'll concisely call the team generator, return the squad details and a nice visualisation\n",
    "    \"\"\"\n",
    "    \n",
    "    # Import patches to enable squad to be displayed in colour\n",
    "    import matplotlib.patches as patches\n",
    "    # Call the generate squad function \n",
    "    squad = pd.read_csv(\"season_squads.csv\")\n",
    "    \n",
    "    gw_request = int(input(\"Which gameweek would you like to view the team for? enter a number between 1-38: \"))\n",
    "    \n",
    "    squad = squad[squad[\"round\"]==gw_request]\n",
    "    \n",
    "    # Read in the team colors data\n",
    "    colors = pd.read_csv(\"team_colors.csv\")\n",
    "    \n",
    "    # Merge the squad and colors\n",
    "    squad_viz = squad.merge(colors, how=\"left\", left_on=\"short_name\", right_on=\"team\").drop(\"team\", axis=1)\n",
    "    \n",
    "    # Set the coordinates for our visulalisation and store in a frame\n",
    "    x_coord = [5, 9, 1, 4, 7, 10, 13, 1, 4, 7, 10, 13, 4, 7, 10]\n",
    "    y_coord = [10, 10, 7, 7, 7, 7, 7, 4, 4, 4, 4, 4, 1, 1, 1,]\n",
    "    coords = pd.DataFrame(data=[x_coord, y_coord]).T\n",
    "    \n",
    "    # join the coordinates to the squad frame\n",
    "    squad_viz = squad_viz.join(coords).rename(columns={0:'x', 1:'y'})\n",
    "    \n",
    "    # Plot the selected squad with squad colours\n",
    "    fig, ax = plt.subplots(figsize=(12, 12))\n",
    "    # set the background to green\n",
    "    plt.rcParams['axes.facecolor'] = \"#72e800\"\n",
    "\n",
    "\n",
    "    for i in range(squad_viz.shape[0]):\n",
    "        # set the required iterables\n",
    "        j = squad_viz.web_name[i]\n",
    "        k = squad_viz.x[i]\n",
    "        m = squad_viz.y[i]\n",
    "        n = squad_viz.top[i]\n",
    "        o = squad_viz.shorts[i]\n",
    "        p = squad_viz.short_name[i]\n",
    "        \n",
    "        # Add the player names and team abbr.\n",
    "        ax.annotate(p, (k, m-0.4), fontsize=16, color=\"k\", fontweight=\"bold\")\n",
    "        ax.annotate(j, (k, m+1.1), fontsize=16, color=\"k\", fontweight=\"bold\")\n",
    "        # Add an in-plot title\n",
    "        ax.annotate(\"Selected Squad\", (6, 12), fontsize=20)\n",
    "        # Draw in the team colors\n",
    "        ax.add_patch(patches.Rectangle((k,m), 1, 1, fc=n))\n",
    "        ax.add_patch(patches.Rectangle((k+1, m), 1, 1, fc=o))\n",
    "        ax.scatter(x=0.5, y=12, marker=\"\") # Create some pad at top of \"pitch\"\n",
    "        ax.scatter(x=0.5, y=0.5, marker=\"\") # Create some pad at bottom of \"pitch\"\n",
    "        plt.axis('scaled')\n",
    "    plt.show()\n",
    "    \n",
    "    \n",
    "    \n",
    "    \n",
    "    return squad"
   ]
  },
  {
   "cell_type": "code",
   "execution_count": 25,
   "metadata": {},
   "outputs": [
    {
     "name": "stdout",
     "output_type": "stream",
     "text": [
      "Which gameweek would you like to view the team for? enter a number between 1-38: 14\n"
     ]
    },
    {
     "data": {
      "image/png": "[encoded data removed]",
      "text/plain": [
       "<Figure size 864x864 with 1 Axes>"
      ]
     },
     "metadata": {
      "needs_background": "light"
     },
     "output_type": "display_data"
    }
   ],
   "source": [
    "squad = selected_squad()"
   ]
  },
  {
   "cell_type": "code",
   "execution_count": 16,
   "metadata": {},
   "outputs": [
    {
     "data": {
      "text/html": [
       "<div>\n",
       "<style scoped>\n",
       "    .dataframe tbody tr th:only-of-type {\n",
       "        vertical-align: middle;\n",
       "    }\n",
       "\n",
       "    .dataframe tbody tr th {\n",
       "        vertical-align: top;\n",
       "    }\n",
       "\n",
       "    .dataframe thead th {\n",
       "        text-align: right;\n",
       "    }\n",
       "</style>\n",
       "<table border=\"1\" class=\"dataframe\">\n",
       "  <thead>\n",
       "    <tr style=\"text-align: right;\">\n",
       "      <th></th>\n",
       "      <th>id</th>\n",
       "      <th>web_name</th>\n",
       "      <th>round</th>\n",
       "      <th>total_points</th>\n",
       "      <th>element_type</th>\n",
       "      <th>short_name</th>\n",
       "      <th>cum_points</th>\n",
       "      <th>value</th>\n",
       "      <th>cost</th>\n",
       "    </tr>\n",
       "  </thead>\n",
       "  <tbody>\n",
       "    <tr>\n",
       "      <th>330</th>\n",
       "      <td>128</td>\n",
       "      <td>Guaita</td>\n",
       "      <td>23</td>\n",
       "      <td>2</td>\n",
       "      <td>1</td>\n",
       "      <td>CRY</td>\n",
       "      <td>77.0</td>\n",
       "      <td>1.6</td>\n",
       "      <td>48</td>\n",
       "    </tr>\n",
       "    <tr>\n",
       "      <th>331</th>\n",
       "      <td>157</td>\n",
       "      <td>Pickford</td>\n",
       "      <td>23</td>\n",
       "      <td>0</td>\n",
       "      <td>1</td>\n",
       "      <td>EVE</td>\n",
       "      <td>50.0</td>\n",
       "      <td>1.0</td>\n",
       "      <td>48</td>\n",
       "    </tr>\n",
       "    <tr>\n",
       "      <th>332</th>\n",
       "      <td>313</td>\n",
       "      <td>Wan-Bissaka</td>\n",
       "      <td>23</td>\n",
       "      <td>4</td>\n",
       "      <td>2</td>\n",
       "      <td>MUN</td>\n",
       "      <td>93.0</td>\n",
       "      <td>1.7</td>\n",
       "      <td>55</td>\n",
       "    </tr>\n",
       "    <tr>\n",
       "      <th>333</th>\n",
       "      <td>273</td>\n",
       "      <td>Stones</td>\n",
       "      <td>23</td>\n",
       "      <td>2</td>\n",
       "      <td>2</td>\n",
       "      <td>MCI</td>\n",
       "      <td>85.0</td>\n",
       "      <td>1.6</td>\n",
       "      <td>52</td>\n",
       "    </tr>\n",
       "    <tr>\n",
       "      <th>334</th>\n",
       "      <td>102</td>\n",
       "      <td>Azpilicueta</td>\n",
       "      <td>23</td>\n",
       "      <td>2</td>\n",
       "      <td>2</td>\n",
       "      <td>CHE</td>\n",
       "      <td>60.0</td>\n",
       "      <td>1.1</td>\n",
       "      <td>57</td>\n",
       "    </tr>\n",
       "    <tr>\n",
       "      <th>335</th>\n",
       "      <td>165</td>\n",
       "      <td>Holgate</td>\n",
       "      <td>23</td>\n",
       "      <td>1</td>\n",
       "      <td>2</td>\n",
       "      <td>EVE</td>\n",
       "      <td>38.0</td>\n",
       "      <td>0.8</td>\n",
       "      <td>48</td>\n",
       "    </tr>\n",
       "    <tr>\n",
       "      <th>336</th>\n",
       "      <td>39</td>\n",
       "      <td>Hause</td>\n",
       "      <td>23</td>\n",
       "      <td>0</td>\n",
       "      <td>2</td>\n",
       "      <td>AVL</td>\n",
       "      <td>28.0</td>\n",
       "      <td>0.6</td>\n",
       "      <td>44</td>\n",
       "    </tr>\n",
       "    <tr>\n",
       "      <th>337</th>\n",
       "      <td>309</td>\n",
       "      <td>McTominay</td>\n",
       "      <td>23</td>\n",
       "      <td>8</td>\n",
       "      <td>3</td>\n",
       "      <td>MUN</td>\n",
       "      <td>64.0</td>\n",
       "      <td>1.3</td>\n",
       "      <td>49</td>\n",
       "    </tr>\n",
       "    <tr>\n",
       "      <th>338</th>\n",
       "      <td>302</td>\n",
       "      <td>Fernandes</td>\n",
       "      <td>23</td>\n",
       "      <td>7</td>\n",
       "      <td>3</td>\n",
       "      <td>MUN</td>\n",
       "      <td>169.0</td>\n",
       "      <td>1.5</td>\n",
       "      <td>115</td>\n",
       "    </tr>\n",
       "    <tr>\n",
       "      <th>339</th>\n",
       "      <td>231</td>\n",
       "      <td>Maddison</td>\n",
       "      <td>23</td>\n",
       "      <td>2</td>\n",
       "      <td>3</td>\n",
       "      <td>LEI</td>\n",
       "      <td>102.0</td>\n",
       "      <td>1.4</td>\n",
       "      <td>74</td>\n",
       "    </tr>\n",
       "    <tr>\n",
       "      <th>340</th>\n",
       "      <td>445</td>\n",
       "      <td>Bowen</td>\n",
       "      <td>23</td>\n",
       "      <td>1</td>\n",
       "      <td>3</td>\n",
       "      <td>WHU</td>\n",
       "      <td>87.0</td>\n",
       "      <td>1.4</td>\n",
       "      <td>61</td>\n",
       "    </tr>\n",
       "    <tr>\n",
       "      <th>341</th>\n",
       "      <td>284</td>\n",
       "      <td>Foden</td>\n",
       "      <td>23</td>\n",
       "      <td>16</td>\n",
       "      <td>3</td>\n",
       "      <td>MCI</td>\n",
       "      <td>83.0</td>\n",
       "      <td>1.4</td>\n",
       "      <td>61</td>\n",
       "    </tr>\n",
       "    <tr>\n",
       "      <th>342</th>\n",
       "      <td>117</td>\n",
       "      <td>Werner</td>\n",
       "      <td>23</td>\n",
       "      <td>10</td>\n",
       "      <td>4</td>\n",
       "      <td>CHE</td>\n",
       "      <td>87.0</td>\n",
       "      <td>0.9</td>\n",
       "      <td>92</td>\n",
       "    </tr>\n",
       "    <tr>\n",
       "      <th>343</th>\n",
       "      <td>202</td>\n",
       "      <td>Bamford</td>\n",
       "      <td>23</td>\n",
       "      <td>6</td>\n",
       "      <td>4</td>\n",
       "      <td>LEE</td>\n",
       "      <td>130.0</td>\n",
       "      <td>1.9</td>\n",
       "      <td>67</td>\n",
       "    </tr>\n",
       "    <tr>\n",
       "      <th>344</th>\n",
       "      <td>506</td>\n",
       "      <td>Wilson</td>\n",
       "      <td>23</td>\n",
       "      <td>1</td>\n",
       "      <td>4</td>\n",
       "      <td>NEW</td>\n",
       "      <td>116.0</td>\n",
       "      <td>1.7</td>\n",
       "      <td>68</td>\n",
       "    </tr>\n",
       "  </tbody>\n",
       "</table>\n",
       "</div>"
      ],
      "text/plain": [
       "      id     web_name  round  total_points  element_type short_name  \\\n",
       "330  128       Guaita     23             2             1        CRY   \n",
       "331  157     Pickford     23             0             1        EVE   \n",
       "332  313  Wan-Bissaka     23             4             2        MUN   \n",
       "333  273       Stones     23             2             2        MCI   \n",
       "334  102  Azpilicueta     23             2             2        CHE   \n",
       "335  165      Holgate     23             1             2        EVE   \n",
       "336   39        Hause     23             0             2        AVL   \n",
       "337  309    McTominay     23             8             3        MUN   \n",
       "338  302    Fernandes     23             7             3        MUN   \n",
       "339  231     Maddison     23             2             3        LEI   \n",
       "340  445        Bowen     23             1             3        WHU   \n",
       "341  284        Foden     23            16             3        MCI   \n",
       "342  117       Werner     23            10             4        CHE   \n",
       "343  202      Bamford     23             6             4        LEE   \n",
       "344  506       Wilson     23             1             4        NEW   \n",
       "\n",
       "     cum_points  value  cost  \n",
       "330        77.0    1.6    48  \n",
       "331        50.0    1.0    48  \n",
       "332        93.0    1.7    55  \n",
       "333        85.0    1.6    52  \n",
       "334        60.0    1.1    57  \n",
       "335        38.0    0.8    48  \n",
       "336        28.0    0.6    44  \n",
       "337        64.0    1.3    49  \n",
       "338       169.0    1.5   115  \n",
       "339       102.0    1.4    74  \n",
       "340        87.0    1.4    61  \n",
       "341        83.0    1.4    61  \n",
       "342        87.0    0.9    92  \n",
       "343       130.0    1.9    67  \n",
       "344       116.0    1.7    68  "
      ]
     },
     "execution_count": 16,
     "metadata": {},
     "output_type": "execute_result"
    }
   ],
   "source": [
    "squad"
   ]
  },
  {
   "cell_type": "code",
   "execution_count": null,
   "metadata": {},
   "outputs": [],
   "source": []
  },
  {
   "cell_type": "code",
   "execution_count": 7,
   "metadata": {},
   "outputs": [],
   "source": [
    "squads = pd.read_csv(\"season_squads.csv\")"
   ]
  },
  {
   "cell_type": "code",
   "execution_count": 21,
   "metadata": {},
   "outputs": [],
   "source": [
    "basicpp = pd.read_csv(\"basic_prepared_players.csv\")"
   ]
  },
  {
   "cell_type": "code",
   "execution_count": 23,
   "metadata": {},
   "outputs": [
    {
     "data": {
      "text/html": [
       "<div>\n",
       "<style scoped>\n",
       "    .dataframe tbody tr th:only-of-type {\n",
       "        vertical-align: middle;\n",
       "    }\n",
       "\n",
       "    .dataframe tbody tr th {\n",
       "        vertical-align: top;\n",
       "    }\n",
       "\n",
       "    .dataframe thead th {\n",
       "        text-align: right;\n",
       "    }\n",
       "</style>\n",
       "<table border=\"1\" class=\"dataframe\">\n",
       "  <thead>\n",
       "    <tr style=\"text-align: right;\">\n",
       "      <th></th>\n",
       "      <th>id</th>\n",
       "      <th>web_name</th>\n",
       "      <th>round</th>\n",
       "      <th>total_points</th>\n",
       "      <th>element_type</th>\n",
       "      <th>short_name</th>\n",
       "      <th>cum_points</th>\n",
       "      <th>cost</th>\n",
       "      <th>value</th>\n",
       "    </tr>\n",
       "  </thead>\n",
       "  <tbody>\n",
       "    <tr>\n",
       "      <th>197</th>\n",
       "      <td>254</td>\n",
       "      <td>Salah</td>\n",
       "      <td>28</td>\n",
       "      <td>3</td>\n",
       "      <td>3</td>\n",
       "      <td>LIV</td>\n",
       "      <td>174.0</td>\n",
       "      <td>120</td>\n",
       "      <td>1.4</td>\n",
       "    </tr>\n",
       "  </tbody>\n",
       "</table>\n",
       "</div>"
      ],
      "text/plain": [
       "      id web_name  round  total_points  element_type short_name  cum_points  \\\n",
       "197  254    Salah     28             3             3        LIV       174.0   \n",
       "\n",
       "     cost  value  \n",
       "197   120    1.4  "
      ]
     },
     "execution_count": 23,
     "metadata": {},
     "output_type": "execute_result"
    }
   ],
   "source": [
    "basicpp[basicpp[\"web_name\"]==\"Salah\"]"
   ]
  },
  {
   "cell_type": "code",
   "execution_count": null,
   "metadata": {},
   "outputs": [],
   "source": []
  }
 ],
 "metadata": {
  "kernelspec": {
   "display_name": "learn-env",
   "language": "python",
   "name": "learn-env"
  },
  "language_info": {
   "codemirror_mode": {
    "name": "ipython",
    "version": 3
   },
   "file_extension": ".py",
   "mimetype": "text/x-python",
   "name": "python",
   "nbconvert_exporter": "python",
   "pygments_lexer": "ipython3",
   "version": "3.6.6"
  }
 },
 "nbformat": 4,
 "nbformat_minor": 4
}
